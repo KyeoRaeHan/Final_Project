{
 "cells": [
  {
   "cell_type": "code",
   "execution_count": 1,
   "metadata": {
    "scrolled": true
   },
   "outputs": [
    {
     "name": "stderr",
     "output_type": "stream",
     "text": [
      "Using TensorFlow backend.\n",
      "C:\\Users\\user\\Anaconda3\\lib\\site-packages\\tensorflow\\python\\framework\\dtypes.py:526: FutureWarning: Passing (type, 1) or '1type' as a synonym of type is deprecated; in a future version of numpy, it will be understood as (type, (1,)) / '(1,)type'.\n",
      "  _np_qint8 = np.dtype([(\"qint8\", np.int8, 1)])\n",
      "C:\\Users\\user\\Anaconda3\\lib\\site-packages\\tensorflow\\python\\framework\\dtypes.py:527: FutureWarning: Passing (type, 1) or '1type' as a synonym of type is deprecated; in a future version of numpy, it will be understood as (type, (1,)) / '(1,)type'.\n",
      "  _np_quint8 = np.dtype([(\"quint8\", np.uint8, 1)])\n",
      "C:\\Users\\user\\Anaconda3\\lib\\site-packages\\tensorflow\\python\\framework\\dtypes.py:528: FutureWarning: Passing (type, 1) or '1type' as a synonym of type is deprecated; in a future version of numpy, it will be understood as (type, (1,)) / '(1,)type'.\n",
      "  _np_qint16 = np.dtype([(\"qint16\", np.int16, 1)])\n",
      "C:\\Users\\user\\Anaconda3\\lib\\site-packages\\tensorflow\\python\\framework\\dtypes.py:529: FutureWarning: Passing (type, 1) or '1type' as a synonym of type is deprecated; in a future version of numpy, it will be understood as (type, (1,)) / '(1,)type'.\n",
      "  _np_quint16 = np.dtype([(\"quint16\", np.uint16, 1)])\n",
      "C:\\Users\\user\\Anaconda3\\lib\\site-packages\\tensorflow\\python\\framework\\dtypes.py:530: FutureWarning: Passing (type, 1) or '1type' as a synonym of type is deprecated; in a future version of numpy, it will be understood as (type, (1,)) / '(1,)type'.\n",
      "  _np_qint32 = np.dtype([(\"qint32\", np.int32, 1)])\n",
      "C:\\Users\\user\\Anaconda3\\lib\\site-packages\\tensorflow\\python\\framework\\dtypes.py:535: FutureWarning: Passing (type, 1) or '1type' as a synonym of type is deprecated; in a future version of numpy, it will be understood as (type, (1,)) / '(1,)type'.\n",
      "  np_resource = np.dtype([(\"resource\", np.ubyte, 1)])\n"
     ]
    }
   ],
   "source": [
    "import argparse\n",
    "import time\n",
    "\n",
    "import cv2\n",
    "\n",
    "from processing import extract_parts, draw\n",
    "\n",
    "from config_reader import config_reader\n",
    "from model.cmu_model import get_testing_model\n",
    "import easydict\n",
    "import glob\n",
    "import numpy as np"
   ]
  },
  {
   "cell_type": "code",
   "execution_count": 2,
   "metadata": {},
   "outputs": [],
   "source": [
    "def crop(image, w, f):\n",
    "    return image[:, int(w * f): int(w * (1 - f))]"
   ]
  },
  {
   "cell_type": "code",
   "execution_count": 3,
   "metadata": {},
   "outputs": [
    {
     "name": "stdout",
     "output_type": "stream",
     "text": [
      "WARNING:tensorflow:From C:\\Users\\user\\Anaconda3\\lib\\site-packages\\tensorflow\\python\\framework\\op_def_library.py:263: colocate_with (from tensorflow.python.framework.ops) is deprecated and will be removed in a future version.\n",
      "Instructions for updating:\n",
      "Colocations handled automatically by placer.\n"
     ]
    }
   ],
   "source": [
    "model = get_testing_model()\n",
    "model.load_weights('model/keras/model.h5')\n",
    "params, model_params = config_reader()\n",
    "\n",
    "black = cv2.imread('black.png')\n",
    "input_image = cv2.imread('1.jpg')\n",
    "        \n",
    "body_parts, all_peaks, subset, candidate = extract_parts(input_image, params, model, model_params)\n",
    "canvas = draw(input_image, all_peaks, subset, candidate)\n",
    "black = draw(black, all_peaks, subset, candidate)\n",
    "#cv2.imshow('img', input_image)\n",
    "cv2.imwrite('test.png', black)\n",
    "\n",
    "cv2.destroyAllWindows()"
   ]
  },
  {
   "cell_type": "code",
   "execution_count": 4,
   "metadata": {},
   "outputs": [],
   "source": [
    "def crop(image, w, f):\n",
    "    return image[:, int(w * f): int(w * (1 - f))]"
   ]
  },
  {
   "cell_type": "code",
   "execution_count": null,
   "metadata": {},
   "outputs": [
    {
     "name": "stdout",
     "output_type": "stream",
     "text": [
      "processing time is 18.08066\n",
      "processing time is 36.64303\n",
      "processing time is 55.29522\n",
      "processing time is 74.13380\n",
      "processing time is 92.94551\n",
      "processing time is 112.24197\n",
      "processing time is 133.05826\n",
      "processing time is 153.65425\n",
      "processing time is 173.87812\n",
      "processing time is 195.30778\n",
      "processing time is 217.08858\n",
      "processing time is 238.87530\n",
      "processing time is 261.26843\n",
      "processing time is 284.99999\n",
      "processing time is 308.71159\n",
      "processing time is 332.22173\n",
      "processing time is 356.90579\n",
      "processing time is 380.90658\n",
      "processing time is 406.22693\n",
      "processing time is 431.39662\n",
      "processing time is 457.52872\n",
      "processing time is 483.75261\n",
      "processing time is 510.31958\n",
      "processing time is 537.43313\n",
      "processing time is 565.20988\n",
      "processing time is 593.60591\n",
      "processing time is 624.21009\n",
      "processing time is 653.92070\n",
      "processing time is 684.52883\n",
      "processing time is 716.10162\n",
      "processing time is 748.19577\n",
      "processing time is 780.92730\n",
      "processing time is 814.37982\n",
      "processing time is 849.16183\n",
      "processing time is 884.21914\n",
      "processing time is 927.63905\n",
      "processing time is 965.65838\n",
      "processing time is 1005.64450\n"
     ]
    }
   ],
   "source": [
    "tic = time.time()\n",
    "file_list = glob.glob('9_frame/*.jpg') \n",
    "number = 268\n",
    "\n",
    "for i in range(len(file_list)):    \n",
    "    \n",
    "    factor = 0.1\n",
    "    scale_search = [0.22, 0.25, .5, 1, 1.5, 2]  \n",
    "    process_speed = 1\n",
    "    scale_search = scale_search[0:process_speed]\n",
    "    params['scale_search'] = scale_search\n",
    "    resize_fac = 1.5\n",
    "\n",
    "    model = get_testing_model()\n",
    "    model.load_weights('model/keras/model.h5')\n",
    "    params, model_params = config_reader()\n",
    "    input_image = cv2.imread(file_list[i])\n",
    "\n",
    "    black = cv2.imread('black.png')\n",
    "    \n",
    "    width = input_image.shape[1]\n",
    "    \n",
    "    frame = crop(input_image, width, factor)\n",
    "    input_image = cv2.resize(frame, (0, 0), fx=1/resize_fac, fy=1/resize_fac, interpolation=cv2.INTER_CUBIC)\n",
    "    input_image = cv2.cvtColor(input_image, cv2.COLOR_RGB2BGR)\n",
    "\n",
    "    body_parts, all_peaks, subset, candidate = extract_parts(input_image, params, model, model_params)\n",
    "    #black = draw(black, all_peaks, subset, candidate, resize_fac=resize_fac)\n",
    "    black = draw(black, all_peaks, subset, candidate)\n",
    "    \n",
    "    toc = time.time()\n",
    "    cv2.imwrite('output_data/test%d.jpg'%number, black)\n",
    "    print('processing time is %.5f' % (toc - tic))\n",
    "    number += 1\n",
    "\n",
    "cv2.destroyAllWindows()"
   ]
  },
  {
   "cell_type": "code",
   "execution_count": null,
   "metadata": {},
   "outputs": [],
   "source": []
  }
 ],
 "metadata": {
  "kernelspec": {
   "display_name": "Python 3",
   "language": "python",
   "name": "python3"
  },
  "language_info": {
   "codemirror_mode": {
    "name": "ipython",
    "version": 3
   },
   "file_extension": ".py",
   "mimetype": "text/x-python",
   "name": "python",
   "nbconvert_exporter": "python",
   "pygments_lexer": "ipython3",
   "version": "3.7.3"
  }
 },
 "nbformat": 4,
 "nbformat_minor": 4
}
